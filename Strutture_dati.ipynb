{
 "cells": [
  {
   "cell_type": "markdown",
   "metadata": {
    "slideshow": {
     "slide_type": "slide"
    }
   },
   "source": [
    "# Strutture Dati\n",
    "\n",
    "---\n",
    "Le Strutture dati permettono di organizzare i dati in modo da rendere il loro uso e la loro manipolazione piu' efficiente. Esistono cinque tipi di strutture dati built-in in python: le liste, le tuple, le stringhe, i dizionari e i set."
   ]
  },
  {
   "cell_type": "markdown",
   "metadata": {},
   "source": [
    "# 1. LIST\n",
    "---\n",
    "\n",
    "* Tipoligia di struttura: Elenco di oggetti non necessariamente dello stesso tipo (può contenere elementi non omogenei)\n",
    "*  Ogni elemento è separato da virgole e l'insieme è racchiuso tra parentesi quadre\n",
    "\n",
    "* La maggior parte delle operazioni di base sono in comune con le stringhe"
   ]
  },
  {
   "cell_type": "code",
   "execution_count": 1,
   "metadata": {},
   "outputs": [
    {
     "data": {
      "text/plain": [
       "[[2, 4], [4, 16], [6, 36]]"
      ]
     },
     "execution_count": 1,
     "metadata": {},
     "output_type": "execute_result"
    }
   ],
   "source": [
    "# 1) CREARE UNA LISTA \n",
    "\n",
    "a = [1,2,3,4]  # lista di int \n",
    "b= [\"Ciao\",\"Hello\", \"Salut\", \"Hola\"] # lista di stringhe \n",
    "\n",
    "# ATTENZIONE: l'array contiente elementi tutti dello stesso tipo, nella lista gli elementi possono essere di tipo diverso\n",
    "\n",
    "# 2) AGGIUNGERE UN ELEMENTO ALLA FINE DI UNA LISTA \n",
    "\n",
    "a[len(a):] =[5] # len(a) è la lunghezza della lista a, len(a): è il numero dopo l'ultimo\n",
    "a.append(6) # Oppure si puo utilizare il la funzione <append(x)>\n",
    "\n",
    "# 3) ATTACCARE UNA LISTA AD ALTRA UNA LISTA FORNITA\n",
    "\n",
    "L =[\"Buongiorno\", \"Good morning\", \"Bonjour\", \"Buen dia\"] # lista fornita \n",
    "b[len(b):] = L\n",
    "\n",
    "# 4) PER SAPERE QUALE È L'INDEX DI X NELLA LISTA FARE INDEX(X)\n",
    "\n",
    "b.index(\"Hello\")\n",
    "\n",
    "# 5) PER TROVARE IL VAOLORE DI INDICE PRECISO IN UNA LISTA UTILIZZARE A.POP(I) DOVE I È L'INDICE\n",
    "\n",
    "a.pop(3) # elimina dalla lista il numero con questo indice e poi lo ristituisce come output \n",
    "\n",
    "# 6) PER INSERE UN ELEMENTO NELLA POSIZIONE FORNITA, IL PRIMO ARGOMENTO È L’INDICE DELL’ELEMENTO DAVANTI AL QUALE VA EFFETTUATO L’INSERIMENTO\n",
    "\n",
    "b.insert(0, \"Salut\") # per inserire l'elemento all'inizio della lista (per inserire l'elemento da altre parti nella lista bisogna solo cambiare il numero davanti)\n",
    "\n",
    "# 7) PER RIMUOVERE IL PRIMO ELEMENTO CON VALORE \"X\" BISOGNA USARE RIMOVE(X)\n",
    "\n",
    "b.remove(\"Salut\")\n",
    "\n",
    "del b[0]  # si puo anche utilizzare la funzione <del> per eliminare degli ogetti dalla lista \n",
    "\n",
    "# 8) PER SAPERE QUANTE RIPETIZIONI DI X CI SONO NELLA LISTA UTILIZARE COUNT(X)\n",
    "\n",
    "b.count(\"Bonjour\") # \"Boujour\" sta solo una volta nella lista \n",
    "\n",
    "\n",
    "# 9) PER METTERE GLI ELEMENTI DELLA LISTA IN ORDINE ALFABEDICO (PER STRINGHE) O ORDINE CRESCENTE (PER INT O FLOAT)\n",
    "\n",
    "a.sort()\n",
    "b.sort()\n",
    "\n",
    "# 10) PER INVERTIRE I VALORI NELLA LISTA\n",
    "\n",
    "a.reverse()\n",
    "b.reverse()\n",
    "\n",
    "# 11) PER TOGLIERE DEI SPAZZI VUOTI INUTILI DELLA LISTA\n",
    "\n",
    "freshfruit = ['  banana', '  loganberry ', 'passion fruit  ']\n",
    "[weapon.strip() for weapon in freshfruit]  # funzione .strip()\n",
    "\n",
    "# 12) PER ESEGUIRE LA STESSA OPERAZIONE SU TUTTI GLI ELEMENTI DELLA LISTA\n",
    "\n",
    "vec = [2, 4, 6]\n",
    "[3*x for x in vec] # multiplica per 3 tutti gli elementi della lista vec \n",
    "\n",
    "# 13) SELEZIONARE SOLO UNA PARTE DI ELEMENTI\n",
    "\n",
    "[3*x for x in vec if x > 3] # in questo caso tutti gli elementi superiori a 3 \n",
    "\n",
    "# 14) PER FARE DELLE LISTE PARTENDO DA DELLE OPERAZIONI APPLICATE ALLA PRIMA LISTA\n",
    "\n",
    "[[x,x**2] for x in vec]\n"
   ]
  },
  {
   "cell_type": "markdown",
   "metadata": {},
   "source": [
    "# 2. Tuple \n",
    "---\n",
    "* Tipologia di struttura: Elenco di oggetti non necessariamente dello stesso tipo (può contenere elementi non omogenei)\n",
    "* Ogni elemento è separato da virgole e l'insieme racchiuso tra parentesi tonde \n",
    "\n",
    "* Simili alle liste ma a differenza di queste ultime non possono essere modificate (anche l'ordine non è modificabile)\n",
    "* Questo rende le tuple adatte a essere chiavi di un dizionario, mentre ciò non è possibile per le liste"
   ]
  },
  {
   "cell_type": "code",
   "execution_count": 2,
   "metadata": {},
   "outputs": [
    {
     "data": {
      "text/plain": [
       "3"
      ]
     },
     "execution_count": 2,
     "metadata": {},
     "output_type": "execute_result"
    }
   ],
   "source": [
    "# 1) CREARE UNA TUPLE\n",
    "\n",
    "tuple_1 = (12345, 54321, 'hello!')\n",
    "\n",
    "# 2) PER CREARE UNA TUPLE SI PUO ANCHE USARE LA FUNZIONE TUPLE()\n",
    "\n",
    "tuple_3 = tuple((\"apple\", \"banana\", \"cherry\")) # da notare le doppie parentesi tonde \n",
    "\n",
    "# 3) PER COSTRUIRE UNA TUPLE CON 0 O 1 ELEMENTO BISOGNA COMUNQUE METTERE LA VIRGOLA\n",
    "\n",
    "empty = ()            # tuple vuota \n",
    "singleton = 'hello',  # tuple con un elemento (la virgola alla fine)\n",
    "\n",
    "\n",
    "# 4) PER ANNIDARE UNA TUPLE CON UN ALTRA \n",
    "\n",
    "u = tuple_1, (1, 2, 3, 4, 5)\n",
    "\n",
    "# 5) PER DETERMINARE LA LUNGHEZZA DI UNA TUPLE, USARE LA FUNZIONE LEN()\n",
    "\n",
    "len(tuple_1)"
   ]
  },
  {
   "cell_type": "markdown",
   "metadata": {},
   "source": [
    "# 3. Stringhe\n",
    "---\n",
    "* Permettono di memorizzare sequenze di caratteri\n",
    "  \n",
    "* Può essere dichiarata e inizializzata utilizzando il singolo o il doppio apice una o tre volte, ma non con due volte\n",
    "* Non modificabili"
   ]
  },
  {
   "cell_type": "code",
   "execution_count": 3,
   "metadata": {},
   "outputs": [
    {
     "data": {
      "text/plain": [
       "2"
      ]
     },
     "execution_count": 3,
     "metadata": {},
     "output_type": "execute_result"
    }
   ],
   "source": [
    "# 1) CREARE UNA STRINGA \n",
    "\n",
    "# stringhe con un apice \n",
    "string_1 = \"Hello\" \n",
    "string_2 = 'Hello'\n",
    "\n",
    "# stringhe con tre apici\n",
    "string_3 = \"\"\"Ciao\"\"\"\n",
    "string_4 = '''Ciao'''\n",
    "\n",
    "# 2) LA CONCATENAZIONE DI DUE O PIU STRINGHE CON IL SIMBOLO + \n",
    "\n",
    "s = 'my '+\"str\"+\"ing\"\n",
    "\n",
    "# 3) PER DETERMINARE LA LUNGHEZZA DI UNA STRINGA\n",
    "\n",
    "len(s) # conta anche gli spazzi\n",
    "\n",
    "# 4) PER DETERMINARE IL VALORE DI UN INDICE NELLA STRINGA SI UTILIZZA s[i] DOVE i E' L'INDICE \n",
    "\n",
    "s[0] # il primo elemento della stringa\n",
    "s[len(s)-1] # l'ultimo elemento della stringa \n",
    "\n",
    "# 5) PER SELEZIONARE SOLO UNA PARTE DELLA STRINGA DA i A j USARE s[i:j]\n",
    "\n",
    "s[3:9]  # Dall'indice 3 all'indice 9 \n",
    "\n",
    "# 6) NON POSSONO ESSERE MODIFICATE \n",
    "\n",
    "#s[1]='e' -->  assegnare un valore a un indice non si puo fare \n",
    "\n",
    "# Per contro possiamo prelevare la parte della striga che vogliamo mantere e aggiungerla a una altra stringa \n",
    "\n",
    "s = 'her ' + s[4:10] \n",
    "\n",
    "# 7) VERIFICARE LA PRESENZA O L'ASSENZA DI UN CARATTERE IN UNA STRINGA\n",
    "\n",
    "name = \"   lavinia    \"\n",
    "\n",
    "\"lavi\" in name \n",
    "\n",
    "# 8) PER ELIMINARE GLI SPAZZI\n",
    "\n",
    "name = name.strip()\n",
    "\n",
    "# 9) PER METTERE TUTTO IN MAIUSCOLO \n",
    "\n",
    "name = name.upper()\n",
    "\n",
    "# 10) PER METTERE TUTTO IN MINUSCOLO\n",
    "\n",
    "name = name.lower()\n",
    "\n",
    "# 11) PER METTERE LA PRIMA LETTERA CON LA MAISCOLA\n",
    "\n",
    "name = name.capitalize()\n",
    "\n",
    "# 12) PER TROVARE L'INDICE DI UNO O PIU CARATTERE \n",
    "\n",
    "name.index('L')\n",
    "name.index('Lav')\n",
    "name.index('av')\n",
    "\n",
    "# 13) PER RIMPIAZZARE UN CARATTERE CON UN ALTRO SI USA replace()\n",
    "\n",
    "name_2 =name.replace('a','e')\n",
    "\n",
    "# 14) PER CONTTARE IL NUMERO DI CARATTERI UGUALI \n",
    "\n",
    "name.count('a') "
   ]
  },
  {
   "cell_type": "markdown",
   "metadata": {},
   "source": [
    "# 4. Dizionari \n",
    "---\n",
    "* Tipologia di struttura: Sequenza di elementi in cui ogni elemento ha una coppia chiave : valore (key : value)\n",
    "* Le chiavi sono uniche\n",
    "* I dizionari vengono definiti e inizializzati con le parentesi graffe\n",
    "* Possono essere immaginati come Liste indicizzate da oggetti non modificabili"
   ]
  },
  {
   "cell_type": "code",
   "execution_count": 4,
   "metadata": {},
   "outputs": [
    {
     "data": {
      "text/plain": [
       "True"
      ]
     },
     "execution_count": 4,
     "metadata": {},
     "output_type": "execute_result"
    }
   ],
   "source": [
    "# 1) PER DEFINIRE UN DIZIONARIO VUOTO\n",
    "\n",
    "d={} \n",
    "# 2) PER DEFINIRE UN DIZIONARE CON CHIAVE : VALORE \n",
    "dict = {'name':'Alex', 'age':28}\n",
    "\n",
    "# 3) PER AVERE LA LISTA DI CHIAVI\n",
    "\n",
    "dict.keys() \n",
    "\n",
    "# 4) PER AVERE LA LISTA DI VALORI\n",
    "\n",
    "dict.values() \n",
    "\n",
    "# 5) PER AVERE LE TUPLE (KEY, VALUE) CHE COMPONGONO IL DIZIONARIO\n",
    "\n",
    "dict.items()  \n",
    "\n",
    "# 6) PER CREARE UN NUOVO ITEM CHIAVE VALORE NEL DIZIONARIO \n",
    "\n",
    "dict[\"height\" ]=180 \n",
    "# 7) PER CREARE UN SET DI NUOVI ITEM CHIAVE VALORE NEL DIZIONARIO\n",
    "\n",
    "dict[\"weight\",\"favorite colour\"]=70, \"blue\" \n",
    "\n",
    "# 8) PER SAPERE IL VALORE DI UNA CHIAVE\n",
    "\n",
    "dict['height']  # per sapere il valore della chiave \"height\" \n",
    "\n",
    "# 9) PER ELIMINARE UNA CHIAVE \n",
    "\n",
    "del dict[(\"weight\",\"favorite colour\")] \n",
    "\n",
    "# 10) PER SAPERE SE UNA CHIAVE APPARTIENE A UN DIZIONARIO\n",
    "\n",
    "'size' in dict.keys()    # elemento che non appartiene --> output False \n",
    "'height' in dict.keys()  # elemento che appartiene --> output True\n"
   ]
  },
  {
   "cell_type": "markdown",
   "metadata": {},
   "source": [
    "# 5. Set\n",
    "---\n",
    "* Tipologia di struttura: Elenco di oggetti non necessariamente dello stesso tipo (può contenere elementi non omogenei)\n",
    "\n",
    "* Ogni elemento è separato da virgole e l'insieme racchiuso tra parentesi graffe \n",
    "*  Non si possono avere due elementi uguali\n",
    "* Insieme di elementi inordinati, senza indice, e incambiabili:\n",
    "    * Inordinati (dunque senza indice) : non si puo essere sicuri dell'ordine degli elementi \n",
    "    * Incambiabili : una volta che un set è creato non si possono modificare i elementi, si puo in ogni caso rimuoverli e aggiungerne dei\n",
    "    \n"
   ]
  },
  {
   "cell_type": "code",
   "execution_count": 17,
   "metadata": {},
   "outputs": [],
   "source": [
    "# 1) CREARE UN SET \n",
    "\n",
    "set1 = {\"apple\", \"banana\", \"cherry\"}\n",
    "\n",
    "# I set si possono creare anche utilizando doppie parentesi tonde e la funzione set()\n",
    "\n",
    "set2 = set((\"apple\", \"banana\", \"cherry\"))\n",
    "\n",
    "# 2) GLI ELEMENTI 1 E TRUE SONO CONSIDERATI NELLO STESSO MODO IN UN SET, VISTO CHE NON CI POSSONO ESSERE DUE ELEMENETI UGUALI NELL'OUTPUT NON C'E' L'1\n",
    "\n",
    "set3= {\"apple\", \"banana\", \"cherry\", True, 1, 2}\n",
    "\n",
    "# 3) PER SAPERE LA LUNGHEZZA DI UN SET \n",
    "\n",
    "len(set3)\n",
    "\n",
    "# 4) PER SAPERE LA PRESENZA DI UN ELEMENTO IN UN SET \n",
    "\n",
    "\"apple\" in set3\n",
    "\n",
    "# 5) PER AGGIUNGERE UN ELEMENTO A UN SET \n",
    "\n",
    "set1.add(\"blueberry\") \n",
    "\n",
    "# 6) PER ELIMINARE UN ELEMENTO DA UN SET \n",
    "\n",
    "set1.remove(\"blueberry\") "
   ]
  }
 ],
 "metadata": {
  "celltoolbar": "Slideshow",
  "kernelspec": {
   "display_name": "Python 3 (ipykernel)",
   "language": "python",
   "name": "python3"
  },
  "language_info": {
   "codemirror_mode": {
    "name": "ipython",
    "version": 3
   },
   "file_extension": ".py",
   "mimetype": "text/x-python",
   "name": "python",
   "nbconvert_exporter": "python",
   "pygments_lexer": "ipython3",
   "version": "3.8.5"
  }
 },
 "nbformat": 4,
 "nbformat_minor": 4
}
